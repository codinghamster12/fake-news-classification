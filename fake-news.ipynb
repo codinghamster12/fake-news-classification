{
 "cells": [
  {
   "cell_type": "code",
   "execution_count": 35,
   "metadata": {},
   "outputs": [],
   "source": [
    "import pandas as pd\n",
    "import numpy as np\n",
    "import matplotlib.pyplot as plt\n",
    "import seaborn as sns\n",
    "import re\n",
    "import nltk\n",
    "from nltk.stem import WordNetLemmatizer\n",
    "import unidecode\n",
    "from sklearn.naive_bayes import MultinomialNB"
   ]
  },
  {
   "cell_type": "code",
   "execution_count": 36,
   "metadata": {},
   "outputs": [],
   "source": [
    "onion= pd.read_csv('data/TheOnion_200331_212130.csv')"
   ]
  },
  {
   "cell_type": "code",
   "execution_count": 37,
   "metadata": {},
   "outputs": [],
   "source": [
    "not_onion= pd.read_csv('data/nottheonion_200331_222109.csv')"
   ]
  },
  {
   "cell_type": "code",
   "execution_count": 38,
   "metadata": {},
   "outputs": [],
   "source": [
    "news=pd.concat([onion, not_onion]).reset_index(drop=True)"
   ]
  },
  {
   "cell_type": "code",
   "execution_count": 39,
   "metadata": {},
   "outputs": [
    {
     "data": {
      "text/html": [
       "<div>\n",
       "<style scoped>\n",
       "    .dataframe tbody tr th:only-of-type {\n",
       "        vertical-align: middle;\n",
       "    }\n",
       "\n",
       "    .dataframe tbody tr th {\n",
       "        vertical-align: top;\n",
       "    }\n",
       "\n",
       "    .dataframe thead th {\n",
       "        text-align: right;\n",
       "    }\n",
       "</style>\n",
       "<table border=\"1\" class=\"dataframe\">\n",
       "  <thead>\n",
       "    <tr style=\"text-align: right;\">\n",
       "      <th></th>\n",
       "      <th>created_utc</th>\n",
       "      <th>url</th>\n",
       "      <th>id</th>\n",
       "      <th>num_comments</th>\n",
       "      <th>title</th>\n",
       "      <th>subreddit</th>\n",
       "      <th>timestamp</th>\n",
       "    </tr>\n",
       "  </thead>\n",
       "  <tbody>\n",
       "    <tr>\n",
       "      <th>19995</th>\n",
       "      <td>1581806730</td>\n",
       "      <td>https://www.reddit.com/r/nottheonion/comments/...</td>\n",
       "      <td>f4h4xr</td>\n",
       "      <td>1</td>\n",
       "      <td>Florida Snake orgy</td>\n",
       "      <td>nottheonion</td>\n",
       "      <td>2020-02-16 03:45:30</td>\n",
       "    </tr>\n",
       "    <tr>\n",
       "      <th>19996</th>\n",
       "      <td>1581806241</td>\n",
       "      <td>https://www.reddit.com/r/nottheonion/comments/...</td>\n",
       "      <td>f4h0xm</td>\n",
       "      <td>10</td>\n",
       "      <td>Sheriff’s ‘out of the ordinary’ call: bear arm...</td>\n",
       "      <td>nottheonion</td>\n",
       "      <td>2020-02-16 03:37:21</td>\n",
       "    </tr>\n",
       "    <tr>\n",
       "      <th>19997</th>\n",
       "      <td>1581805471</td>\n",
       "      <td>https://www.reddit.com/r/nottheonion/comments/...</td>\n",
       "      <td>f4gush</td>\n",
       "      <td>2</td>\n",
       "      <td>Male Tennessee lawmaker concerned women will s...</td>\n",
       "      <td>nottheonion</td>\n",
       "      <td>2020-02-16 03:24:31</td>\n",
       "    </tr>\n",
       "    <tr>\n",
       "      <th>19998</th>\n",
       "      <td>1581805139</td>\n",
       "      <td>https://www.reddit.com/r/nottheonion/comments/...</td>\n",
       "      <td>f4grxn</td>\n",
       "      <td>204</td>\n",
       "      <td>New technology may prevent McDonald’s ice crea...</td>\n",
       "      <td>nottheonion</td>\n",
       "      <td>2020-02-16 03:18:59</td>\n",
       "    </tr>\n",
       "    <tr>\n",
       "      <th>19999</th>\n",
       "      <td>1581804630</td>\n",
       "      <td>https://www.reddit.com/r/nottheonion/comments/...</td>\n",
       "      <td>f4gnqi</td>\n",
       "      <td>1</td>\n",
       "      <td>Tanner Zipchen speaks out on former Cineplex g...</td>\n",
       "      <td>nottheonion</td>\n",
       "      <td>2020-02-16 03:10:30</td>\n",
       "    </tr>\n",
       "  </tbody>\n",
       "</table>\n",
       "</div>"
      ],
      "text/plain": [
       "       created_utc                                                url      id  \\\n",
       "19995   1581806730  https://www.reddit.com/r/nottheonion/comments/...  f4h4xr   \n",
       "19996   1581806241  https://www.reddit.com/r/nottheonion/comments/...  f4h0xm   \n",
       "19997   1581805471  https://www.reddit.com/r/nottheonion/comments/...  f4gush   \n",
       "19998   1581805139  https://www.reddit.com/r/nottheonion/comments/...  f4grxn   \n",
       "19999   1581804630  https://www.reddit.com/r/nottheonion/comments/...  f4gnqi   \n",
       "\n",
       "       num_comments                                              title  \\\n",
       "19995             1                                 Florida Snake orgy   \n",
       "19996            10  Sheriff’s ‘out of the ordinary’ call: bear arm...   \n",
       "19997             2  Male Tennessee lawmaker concerned women will s...   \n",
       "19998           204  New technology may prevent McDonald’s ice crea...   \n",
       "19999             1  Tanner Zipchen speaks out on former Cineplex g...   \n",
       "\n",
       "         subreddit            timestamp  \n",
       "19995  nottheonion  2020-02-16 03:45:30  \n",
       "19996  nottheonion  2020-02-16 03:37:21  \n",
       "19997  nottheonion  2020-02-16 03:24:31  \n",
       "19998  nottheonion  2020-02-16 03:18:59  \n",
       "19999  nottheonion  2020-02-16 03:10:30  "
      ]
     },
     "execution_count": 39,
     "metadata": {},
     "output_type": "execute_result"
    }
   ],
   "source": [
    "news.tail()"
   ]
  },
  {
   "cell_type": "code",
   "execution_count": 40,
   "metadata": {},
   "outputs": [],
   "source": [
    "news['subreddit']= news['subreddit'].map(lambda x: 1 if x== 'TheOnion' else 0)"
   ]
  },
  {
   "cell_type": "code",
   "execution_count": 41,
   "metadata": {},
   "outputs": [
    {
     "name": "stdout",
     "output_type": "stream",
     "text": [
      "<class 'pandas.core.frame.DataFrame'>\n",
      "RangeIndex: 20000 entries, 0 to 19999\n",
      "Data columns (total 7 columns):\n",
      "created_utc     20000 non-null int64\n",
      "url             20000 non-null object\n",
      "id              20000 non-null object\n",
      "num_comments    20000 non-null int64\n",
      "title           20000 non-null object\n",
      "subreddit       20000 non-null int64\n",
      "timestamp       20000 non-null object\n",
      "dtypes: int64(3), object(4)\n",
      "memory usage: 781.3+ KB\n"
     ]
    }
   ],
   "source": [
    "news.info()"
   ]
  },
  {
   "cell_type": "code",
   "execution_count": 42,
   "metadata": {},
   "outputs": [
    {
     "data": {
      "text/html": [
       "<div>\n",
       "<style scoped>\n",
       "    .dataframe tbody tr th:only-of-type {\n",
       "        vertical-align: middle;\n",
       "    }\n",
       "\n",
       "    .dataframe tbody tr th {\n",
       "        vertical-align: top;\n",
       "    }\n",
       "\n",
       "    .dataframe thead th {\n",
       "        text-align: right;\n",
       "    }\n",
       "</style>\n",
       "<table border=\"1\" class=\"dataframe\">\n",
       "  <thead>\n",
       "    <tr style=\"text-align: right;\">\n",
       "      <th></th>\n",
       "      <th>created_utc</th>\n",
       "      <th>url</th>\n",
       "      <th>id</th>\n",
       "      <th>num_comments</th>\n",
       "      <th>title</th>\n",
       "      <th>subreddit</th>\n",
       "      <th>timestamp</th>\n",
       "    </tr>\n",
       "  </thead>\n",
       "  <tbody>\n",
       "    <tr>\n",
       "      <th>0</th>\n",
       "      <td>1585666673</td>\n",
       "      <td>https://www.reddit.com/r/TheOnion/comments/fse...</td>\n",
       "      <td>fsecot</td>\n",
       "      <td>1</td>\n",
       "      <td>Prison Economy Spirals As Price Of Pack Of Cig...</td>\n",
       "      <td>1</td>\n",
       "      <td>2020-03-31 19:57:53</td>\n",
       "    </tr>\n",
       "    <tr>\n",
       "      <th>1</th>\n",
       "      <td>1585666583</td>\n",
       "      <td>https://www.reddit.com/r/TheOnion/comments/fse...</td>\n",
       "      <td>fsebut</td>\n",
       "      <td>0</td>\n",
       "      <td>Prison Economy Spirals As Price Of Pack Of Cig...</td>\n",
       "      <td>1</td>\n",
       "      <td>2020-03-31 19:56:23</td>\n",
       "    </tr>\n",
       "    <tr>\n",
       "      <th>2</th>\n",
       "      <td>1585664848</td>\n",
       "      <td>https://www.reddit.com/r/TheOnion/comments/fsd...</td>\n",
       "      <td>fsduf7</td>\n",
       "      <td>0</td>\n",
       "      <td>Trump Delays Easter To July 15 To Keep Promise...</td>\n",
       "      <td>1</td>\n",
       "      <td>2020-03-31 19:27:28</td>\n",
       "    </tr>\n",
       "    <tr>\n",
       "      <th>3</th>\n",
       "      <td>1585653596</td>\n",
       "      <td>https://www.reddit.com/r/TheOnion/comments/fsb...</td>\n",
       "      <td>fsb69r</td>\n",
       "      <td>0</td>\n",
       "      <td>‘What Is This Strange Sensation,’ Announces Na...</td>\n",
       "      <td>1</td>\n",
       "      <td>2020-03-31 16:19:56</td>\n",
       "    </tr>\n",
       "    <tr>\n",
       "      <th>4</th>\n",
       "      <td>1585653517</td>\n",
       "      <td>https://www.reddit.com/r/TheOnion/comments/fsb...</td>\n",
       "      <td>fsb5ns</td>\n",
       "      <td>6</td>\n",
       "      <td>Amazon Announces Unlimited Time Off, Increased...</td>\n",
       "      <td>1</td>\n",
       "      <td>2020-03-31 16:18:37</td>\n",
       "    </tr>\n",
       "  </tbody>\n",
       "</table>\n",
       "</div>"
      ],
      "text/plain": [
       "   created_utc                                                url      id  \\\n",
       "0   1585666673  https://www.reddit.com/r/TheOnion/comments/fse...  fsecot   \n",
       "1   1585666583  https://www.reddit.com/r/TheOnion/comments/fse...  fsebut   \n",
       "2   1585664848  https://www.reddit.com/r/TheOnion/comments/fsd...  fsduf7   \n",
       "3   1585653596  https://www.reddit.com/r/TheOnion/comments/fsb...  fsb69r   \n",
       "4   1585653517  https://www.reddit.com/r/TheOnion/comments/fsb...  fsb5ns   \n",
       "\n",
       "   num_comments                                              title  subreddit  \\\n",
       "0             1  Prison Economy Spirals As Price Of Pack Of Cig...          1   \n",
       "1             0  Prison Economy Spirals As Price Of Pack Of Cig...          1   \n",
       "2             0  Trump Delays Easter To July 15 To Keep Promise...          1   \n",
       "3             0  ‘What Is This Strange Sensation,’ Announces Na...          1   \n",
       "4             6  Amazon Announces Unlimited Time Off, Increased...          1   \n",
       "\n",
       "             timestamp  \n",
       "0  2020-03-31 19:57:53  \n",
       "1  2020-03-31 19:56:23  \n",
       "2  2020-03-31 19:27:28  \n",
       "3  2020-03-31 16:19:56  \n",
       "4  2020-03-31 16:18:37  "
      ]
     },
     "execution_count": 42,
     "metadata": {},
     "output_type": "execute_result"
    }
   ],
   "source": [
    "news.head()"
   ]
  },
  {
   "cell_type": "code",
   "execution_count": null,
   "metadata": {},
   "outputs": [],
   "source": []
  },
  {
   "cell_type": "code",
   "execution_count": 43,
   "metadata": {},
   "outputs": [],
   "source": [
    "wpt= nltk.WordPunctTokenizer()\n",
    "stop_words= nltk.corpus.stopwords.words('english')\n",
    "lemmatizer= WordNetLemmatizer()\n",
    "def normalize(title):\n",
    "    title= unidecode.unidecode(title)\n",
    "    title= re.sub(r\"[^a-zA-Z\\s]\", '', title)\n",
    "    title= title.lower()\n",
    "    title= title.strip()\n",
    "    title = title.replace('  ',' ')\n",
    "    tokens= wpt.tokenize(title)\n",
    "    filtered_tokens= [token for token in tokens if token not in stop_words]\n",
    "    lemmatized_tokens=[lemmatizer.lemmatize(token) for token in filtered_tokens]\n",
    "    clean_title=' '.join(lemmatized_tokens)\n",
    "    return clean_title\n",
    "\n",
    "   \n",
    "    "
   ]
  },
  {
   "cell_type": "code",
   "execution_count": 44,
   "metadata": {},
   "outputs": [
    {
     "name": "stderr",
     "output_type": "stream",
     "text": [
      "c:\\users\\bisma\\appdata\\local\\programs\\python\\python37-32\\lib\\site-packages\\ipykernel_launcher.py:3: SettingWithCopyWarning: \n",
      "A value is trying to be set on a copy of a slice from a DataFrame\n",
      "\n",
      "See the caveats in the documentation: http://pandas.pydata.org/pandas-docs/stable/user_guide/indexing.html#returning-a-view-versus-a-copy\n",
      "  This is separate from the ipykernel package so we can avoid doing imports until\n"
     ]
    }
   ],
   "source": [
    "titles= list(news['title'])\n",
    "for index,title in enumerate(titles):\n",
    "    news['title'][index]= normalize(title)"
   ]
  },
  {
   "cell_type": "code",
   "execution_count": 45,
   "metadata": {},
   "outputs": [
    {
     "data": {
      "text/plain": [
       "0"
      ]
     },
     "execution_count": 45,
     "metadata": {},
     "output_type": "execute_result"
    }
   ],
   "source": [
    "news['title'].str.contains(\"'\").sum()"
   ]
  },
  {
   "cell_type": "code",
   "execution_count": 46,
   "metadata": {},
   "outputs": [],
   "source": [
    "import sklearn\n",
    "from sklearn.model_selection import train_test_split"
   ]
  },
  {
   "cell_type": "code",
   "execution_count": 47,
   "metadata": {},
   "outputs": [],
   "source": [
    "news.drop_duplicates(subset='title', inplace=True)\n"
   ]
  },
  {
   "cell_type": "code",
   "execution_count": 48,
   "metadata": {},
   "outputs": [],
   "source": [
    "y= news['subreddit']\n",
    "X= news['title']\n"
   ]
  },
  {
   "cell_type": "code",
   "execution_count": 49,
   "metadata": {},
   "outputs": [],
   "source": [
    "\n",
    "X_train, X_test,y_train, y_test= train_test_split(X, y, test_size=0.2, random_state=42)"
   ]
  },
  {
   "cell_type": "code",
   "execution_count": 50,
   "metadata": {},
   "outputs": [
    {
     "name": "stdout",
     "output_type": "stream",
     "text": [
      "Naive Predictor: [Accuracy score: 0.5591, F-score: 0.6131]\n"
     ]
    }
   ],
   "source": [
    "#naive classifier:\n",
    "TP= np.sum(news['subreddit'])\n",
    "FP= news['subreddit'].count() - TP\n",
    "TN=0\n",
    "FN=0\n",
    "baseline= (TP+TN)/ (TP+FP+TN+FN)\n",
    "\n",
    "recall= (TP) / (TP +FN)\n",
    "precision= (TP)/ (TP + FP)\n",
    "fscore = (1 + 0.5**2) * ((precision * recall) / ((0.5**2 * precision) + recall))\n",
    "\n",
    "print(\"Naive Predictor: [Accuracy score: {:.4f}, F-score: {:.4f}]\".format(baseline, fscore))"
   ]
  },
  {
   "cell_type": "code",
   "execution_count": 51,
   "metadata": {},
   "outputs": [],
   "source": [
    "from sklearn.linear_model import LogisticRegression, LogisticRegressionCV\n",
    "from sklearn.model_selection import GridSearchCV, cross_val_score, cross_val_predict\n",
    "from sklearn.metrics import accuracy_score\n",
    "\n",
    "lr = LogisticRegression(random_state=1)"
   ]
  },
  {
   "cell_type": "code",
   "execution_count": 52,
   "metadata": {},
   "outputs": [
    {
     "name": "stdout",
     "output_type": "stream",
     "text": [
      "[0.82271985 0.82295311 0.81614559]\n",
      "(12860, 17190)\n"
     ]
    }
   ],
   "source": [
    "from sklearn.feature_extraction.text import TfidfVectorizer\n",
    "tvec= TfidfVectorizer()\n",
    "X_train_tvec= tvec.fit_transform(X_train)\n",
    "tvec_score= cross_val_score(lr, X_train_tvec, y_train, cv=3)\n",
    "print(tvec_score)\n",
    "print(X_train_tvec.shape)"
   ]
  },
  {
   "cell_type": "code",
   "execution_count": 53,
   "metadata": {},
   "outputs": [
    {
     "name": "stdout",
     "output_type": "stream",
     "text": [
      "[0.82925122 0.82948449 0.82081195]\n",
      "(12860, 17190)\n"
     ]
    }
   ],
   "source": [
    "from sklearn.feature_extraction.text import CountVectorizer\n",
    "cvec= CountVectorizer()\n",
    "X_train_cvec= cvec.fit_transform(X_train)\n",
    "cvec_score= cross_val_score(lr, X_train_cvec, y_train, cv=3)\n",
    "print(cvec_score)\n",
    "print(X_train_cvec.shape)\n"
   ]
  },
  {
   "cell_type": "code",
   "execution_count": 54,
   "metadata": {},
   "outputs": [
    {
     "name": "stdout",
     "output_type": "stream",
     "text": [
      "Baseline: 0.5590668740279938\n",
      "Tfidf Vectorizer Score: 0.8206061850237379\n",
      "Count Vectorizer Score: 0.8265158861632743\n"
     ]
    },
    {
     "data": {
      "text/html": [
       "<div>\n",
       "<style scoped>\n",
       "    .dataframe tbody tr th:only-of-type {\n",
       "        vertical-align: middle;\n",
       "    }\n",
       "\n",
       "    .dataframe tbody tr th {\n",
       "        vertical-align: top;\n",
       "    }\n",
       "\n",
       "    .dataframe thead th {\n",
       "        text-align: right;\n",
       "    }\n",
       "</style>\n",
       "<table border=\"1\" class=\"dataframe\">\n",
       "  <thead>\n",
       "    <tr style=\"text-align: right;\">\n",
       "      <th></th>\n",
       "      <th>params</th>\n",
       "      <th>scores</th>\n",
       "    </tr>\n",
       "  </thead>\n",
       "  <tbody>\n",
       "    <tr>\n",
       "      <th>0</th>\n",
       "      <td>cvec</td>\n",
       "      <td>0.826516</td>\n",
       "    </tr>\n",
       "    <tr>\n",
       "      <th>1</th>\n",
       "      <td>tvec</td>\n",
       "      <td>0.820606</td>\n",
       "    </tr>\n",
       "  </tbody>\n",
       "</table>\n",
       "</div>"
      ],
      "text/plain": [
       "  params    scores\n",
       "0   cvec  0.826516\n",
       "1   tvec  0.820606"
      ]
     },
     "execution_count": 54,
     "metadata": {},
     "output_type": "execute_result"
    }
   ],
   "source": [
    "print ('Baseline:', baseline)\n",
    "print ('Tfidf Vectorizer Score:', tvec_score.mean())\n",
    "print ('Count Vectorizer Score:', cvec_score.mean())\n",
    "acc_list = []\n",
    "acc_list.append(cvec_score.mean())\n",
    "acc_list.append(tvec_score.mean())\n",
    "\n",
    "# DataFrame Accuracy \n",
    "acc_df = pd.DataFrame()\n",
    "acc_df['params']= ['cvec', 'tvec']\n",
    "acc_df['scores']= acc_list\n",
    "acc_df"
   ]
  },
  {
   "cell_type": "code",
   "execution_count": 55,
   "metadata": {},
   "outputs": [
    {
     "data": {
      "image/png": "[encoded data removed]",
      "text/plain": [
       "<Figure size 432x288 with 1 Axes>"
      ]
     },
     "metadata": {
      "needs_background": "light"
     },
     "output_type": "display_data"
    }
   ],
   "source": [
    "def count_vec_ngram(params, X_train, y_train):\n",
    "    cvec_p = CountVectorizer(ngram_range=(params))\n",
    "    cvec_p.fit(X_train)\n",
    "    X_train_cvec_p = cvec_p.transform(X_train)\n",
    "# cross val score/ predict\n",
    "    cvec_score_p = cross_val_score(lr, X_train_cvec_p, y_train, cv=3)\n",
    "# cross validation \n",
    "    return cvec_score_p.mean()\n",
    "\n",
    "params = [(1,1), (1,2),(1,3), (1,4)] \n",
    "ngram_scores = []\n",
    "for p in params:\n",
    "    ngram_scores.append(count_vec_ngram(p, X_train, y_train))\n",
    "    \n",
    "ngrams = ['cvec gram_1','cvec gram_2','cvec gram_3','cvec gram_4']\n",
    "ngram_df = pd.DataFrame({'params':ngrams, 'scores':ngram_scores}, index=[0,1,2,3])\n",
    "# adding cvec score with default params\n",
    "ngram_df = ngram_df.append(acc_df.iloc[:1,:])\n",
    "# plot scores on graph\n",
    "sns.pointplot(x='params', y='scores', data =ngram_df)\n",
    "plt.ylabel('Accuracy Score')\n",
    "plt.xlabel('ngrams')\n",
    "plt.xticks(rotation=40)\n",
    "plt.show()"
   ]
  },
  {
   "cell_type": "code",
   "execution_count": 56,
   "metadata": {},
   "outputs": [
    {
     "data": {
      "image/png": "[encoded data removed]",
      "text/plain": [
       "<Figure size 432x288 with 1 Axes>"
      ]
     },
     "metadata": {
      "needs_background": "light"
     },
     "output_type": "display_data"
    }
   ],
   "source": [
    "def count_vec_max_features(params, X_train, y_train):\n",
    "    cvec_p = CountVectorizer(max_features=params)\n",
    "    cvec_p.fit(X_train)\n",
    "    X_train_cvec_p = cvec_p.transform(X_train)\n",
    "# cross val score/ predict\n",
    "    cvec_score_p = cross_val_score(lr, X_train_cvec_p, y_train, cv=3)\n",
    "# cross validation \n",
    "    return cvec_score_p.mean()\n",
    "mf_params = [None, 500, 1000, 5000, 10000]\n",
    "max_features_scores = [count_vec_max_features(p, X_train, y_train) for p in mf_params]\n",
    "max_features = ['max_f_'+str(p) for p in mf_params]\n",
    "# dataframe for scores\n",
    "max_features_df = pd.DataFrame({'params':max_features, 'scores':max_features_scores}, index=[0,1,2,3,4])\n",
    "# adding cvec score with default params\n",
    "max_features_df = max_features_df.append(acc_df.iloc[:1,:])\n",
    "sns.pointplot(x='params', y='scores', data =max_features_df)\n",
    "plt.ylabel('Accuracy Score')\n",
    "plt.xlabel('Max Features')\n",
    "plt.xticks(rotation=40)\n",
    "plt.title('Accuracy of Max Features')\n",
    "plt.show()"
   ]
  },
  {
   "cell_type": "code",
   "execution_count": 57,
   "metadata": {},
   "outputs": [
    {
     "data": {
      "image/png": "[encoded data removed]",
      "text/plain": [
       "<Figure size 432x288 with 1 Axes>"
      ]
     },
     "metadata": {
      "needs_background": "light"
     },
     "output_type": "display_data"
    }
   ],
   "source": [
    "def count_vec_max_df(params, X_train, y_train):\n",
    "    cvec_p = CountVectorizer(max_df=params)\n",
    "    cvec_p.fit(X_train)\n",
    "    X_train_cvec_p = cvec_p.transform(X_train)\n",
    "# cross val score/ predict\n",
    "    cvec_score_p = cross_val_score(lr, X_train_cvec_p, y_train, cv=3)\n",
    "# cross validation \n",
    "    return cvec_score_p.mean()\n",
    "mdf_params = [0.25, 0.5, 0.75, 1.0]\n",
    "max_df_scores = [count_vec_max_df(p, X_train, y_train) for p in mdf_params]\n",
    "max_df = ['max_df_'+str(p) for p in mdf_params]\n",
    "# dataframe for scores\n",
    "max_df_df = pd.DataFrame({'params':max_df, 'scores':max_df_scores}, index=[0,1,2,3])\n",
    "# adding cvec score with default params\n",
    "max_df_df = max_df_df.append(acc_df.iloc[:1,:])\n",
    "sns.pointplot(x='params', y='scores', data =max_df_df)\n",
    "plt.ylabel('Accuracy Score')\n",
    "plt.xlabel('max_df')\n",
    "plt.xticks(rotation=40)\n",
    "plt.title('Accuracy of Max df')\n",
    "plt.show()"
   ]
  },
  {
   "cell_type": "code",
   "execution_count": 58,
   "metadata": {},
   "outputs": [
    {
     "data": {
      "text/html": [
       "<div>\n",
       "<style scoped>\n",
       "    .dataframe tbody tr th:only-of-type {\n",
       "        vertical-align: middle;\n",
       "    }\n",
       "\n",
       "    .dataframe tbody tr th {\n",
       "        vertical-align: top;\n",
       "    }\n",
       "\n",
       "    .dataframe thead th {\n",
       "        text-align: right;\n",
       "    }\n",
       "</style>\n",
       "<table border=\"1\" class=\"dataframe\">\n",
       "  <thead>\n",
       "    <tr style=\"text-align: right;\">\n",
       "      <th></th>\n",
       "      <th>params</th>\n",
       "      <th>scores</th>\n",
       "    </tr>\n",
       "  </thead>\n",
       "  <tbody>\n",
       "    <tr>\n",
       "      <th>8</th>\n",
       "      <td>best_params</td>\n",
       "      <td>0.837480</td>\n",
       "    </tr>\n",
       "    <tr>\n",
       "      <th>0</th>\n",
       "      <td>cvec</td>\n",
       "      <td>0.826516</td>\n",
       "    </tr>\n",
       "    <tr>\n",
       "      <th>1</th>\n",
       "      <td>tvec</td>\n",
       "      <td>0.820606</td>\n",
       "    </tr>\n",
       "  </tbody>\n",
       "</table>\n",
       "</div>"
      ],
      "text/plain": [
       "        params    scores\n",
       "8  best_params  0.837480\n",
       "0         cvec  0.826516\n",
       "1         tvec  0.820606"
      ]
     },
     "execution_count": 58,
     "metadata": {},
     "output_type": "execute_result"
    }
   ],
   "source": [
    "from sklearn.feature_extraction.text import CountVectorizer\n",
    "# initalise the vectoriser \n",
    "cvec_b = CountVectorizer(ngram_range=(1,2), max_features=None)\n",
    "# fit the training data on the model\n",
    "cvec_b.fit(X_train)\n",
    "#transform training data into sparse matrix\n",
    "X_train_cvec = cvec_b.transform(X_train)\n",
    "# cross val score/ predict\n",
    "cvec_score = cross_val_score(lr, X_train_cvec, y_train, cv=3)\n",
    "cvec_score.mean()\n",
    "acc_df.loc[8]= ['best_params', cvec_score.mean()]\n",
    "acc_df.sort_values('scores', ascending=False)"
   ]
  },
  {
   "cell_type": "code",
   "execution_count": 59,
   "metadata": {},
   "outputs": [
    {
     "data": {
      "image/png": "[encoded data removed]",
      "text/plain": [
       "<Figure size 432x288 with 1 Axes>"
      ]
     },
     "metadata": {
      "needs_background": "light"
     },
     "output_type": "display_data"
    }
   ],
   "source": [
    "sns.pointplot(x='params', y='scores', data =acc_df)\n",
    "plt.ylabel('Accuracy score')\n",
    "plt.xlabel('Parameters')\n",
    "plt.xticks(rotation=40)\n",
    "plt.title('Comparison of highest parameters')\n",
    "plt.show()"
   ]
  },
  {
   "cell_type": "code",
   "execution_count": null,
   "metadata": {},
   "outputs": [],
   "source": []
  },
  {
   "cell_type": "code",
   "execution_count": 60,
   "metadata": {},
   "outputs": [
    {
     "name": "stdout",
     "output_type": "stream",
     "text": [
      "Best score: 0.8374019991855919\n",
      "Train score 0.9959564541213064\n",
      "Test score 0.8538102643856921\n"
     ]
    },
    {
     "data": {
      "text/plain": [
       "{'cvec__ngram_range': (1, 2), 'lr__C': 1}"
      ]
     },
     "execution_count": 60,
     "metadata": {},
     "output_type": "execute_result"
    }
   ],
   "source": [
    "from sklearn.pipeline import Pipeline\n",
    "pipe = Pipeline([('cvec', CountVectorizer()),    \n",
    "                 ('lr', LogisticRegression(solver='liblinear'))])\n",
    "\n",
    "# Tune GridSearchCV\n",
    "pipe_params = {\n",
    "               'cvec__ngram_range': [(1,1), (1,2), (1,3), (1,4)],\n",
    "               'lr__C': [0.01, 1]}\n",
    "\n",
    "gs = GridSearchCV(pipe, param_grid=pipe_params, cv=3)\n",
    "gs.fit(X_train, y_train);\n",
    "print(\"Best score:\", gs.best_score_)\n",
    "print(\"Train score\", gs.score(X_train, y_train))\n",
    "print(\"Test score\", gs.score(X_test, y_test))\n",
    "\n",
    "gs.best_params_"
   ]
  },
  {
   "cell_type": "code",
   "execution_count": 61,
   "metadata": {},
   "outputs": [
    {
     "name": "stdout",
     "output_type": "stream",
     "text": [
      "Best score: 0.8263603591188936\n",
      "Train score 0.9209953343701399\n",
      "Test score 0.83950233281493\n"
     ]
    },
    {
     "data": {
      "text/plain": [
       "{'lr__C': 1,\n",
       " 'tvect__max_df': 0.25,\n",
       " 'tvect__min_df': 2,\n",
       " 'tvect__ngram_range': (1, 4)}"
      ]
     },
     "execution_count": 61,
     "metadata": {},
     "output_type": "execute_result"
    }
   ],
   "source": [
    "pipe = Pipeline([('tvect', TfidfVectorizer()),    \n",
    "                 ('lr', LogisticRegression(solver='liblinear'))])\n",
    "\n",
    "# Tune GridSearchCV\n",
    "pipe_params = {'tvect__max_df': [.25,.5,.75, .98, 1.0],\n",
    "               'tvect__min_df': [2, 3, 5],\n",
    "               'tvect__ngram_range': [(1,1), (1,2), (1,3), (1,4)],\n",
    "               'lr__C': [1]}\n",
    "\n",
    "gs = GridSearchCV(pipe, param_grid=pipe_params, cv=3)\n",
    "gs.fit(X_train, y_train);\n",
    "print(\"Best score:\", gs.best_score_)\n",
    "print(\"Train score\", gs.score(X_train, y_train))\n",
    "print(\"Test score\", gs.score(X_test, y_test))\n",
    "\n",
    "gs.best_params_"
   ]
  },
  {
   "cell_type": "code",
   "execution_count": null,
   "metadata": {},
   "outputs": [],
   "source": []
  },
  {
   "cell_type": "code",
   "execution_count": 62,
   "metadata": {},
   "outputs": [
    {
     "name": "stdout",
     "output_type": "stream",
     "text": [
      "Best score: 0.8483663564797413\n",
      "Train score 0.9942457231726283\n",
      "Test score 0.8578538102643857\n"
     ]
    },
    {
     "data": {
      "text/plain": [
       "{'cvec__ngram_range': (1, 3), 'nb__alpha': 0.6}"
      ]
     },
     "execution_count": 62,
     "metadata": {},
     "output_type": "execute_result"
    }
   ],
   "source": [
    "pipe = Pipeline([('cvec', CountVectorizer()),    \n",
    "                 ('nb', MultinomialNB())])\n",
    "\n",
    "# Tune GridSearchCV\n",
    "pipe_params = {'cvec__ngram_range': [(1,1),(1,3)],\n",
    "               'nb__alpha': [.36, .6]}\n",
    "\n",
    "gs = GridSearchCV(pipe, param_grid=pipe_params, cv=3)\n",
    "gs.fit(X_train, y_train);\n",
    "print(\"Best score:\", gs.best_score_)\n",
    "print(\"Train score\", gs.score(X_train, y_train))\n",
    "print(\"Test score\", gs.score(X_test, y_test))\n",
    "\n",
    "gs.best_params_"
   ]
  },
  {
   "cell_type": "code",
   "execution_count": 63,
   "metadata": {},
   "outputs": [
    {
     "name": "stdout",
     "output_type": "stream",
     "text": [
      "Best score: 0.8256609642301711\n",
      "Train score 0.8976671850699844\n",
      "Test score 0.8289269051321928\n"
     ]
    },
    {
     "data": {
      "text/plain": [
       "{'nb__alpha': 0.1,\n",
       " 'tvect__max_df': 0.75,\n",
       " 'tvect__min_df': 4,\n",
       " 'tvect__ngram_range': (1, 2)}"
      ]
     },
     "execution_count": 63,
     "metadata": {},
     "output_type": "execute_result"
    }
   ],
   "source": [
    "pipe = Pipeline([('tvect', TfidfVectorizer()),    \n",
    "                 ('nb', MultinomialNB())])\n",
    "\n",
    "# Tune GridSearchCV\n",
    "pipe_params = {'tvect__max_df': [.75, .98],\n",
    "               'tvect__min_df': [4, 5],\n",
    "               'tvect__ngram_range': [(1,2), (1,3)],\n",
    "               'nb__alpha': [0.1, 1]}\n",
    "\n",
    "gs = GridSearchCV(pipe, param_grid=pipe_params, cv=5)\n",
    "gs.fit(X_train, y_train);\n",
    "print(\"Best score:\", gs.best_score_)\n",
    "print(\"Train score\", gs.score(X_train, y_train))\n",
    "print(\"Test score\", gs.score(X_test, y_test))\n",
    "\n",
    "gs.best_params_"
   ]
  },
  {
   "cell_type": "code",
   "execution_count": null,
   "metadata": {},
   "outputs": [],
   "source": []
  }
 ],
 "metadata": {
  "kernelspec": {
   "display_name": "Python 3",
   "language": "python",
   "name": "python3"
  },
  "language_info": {
   "codemirror_mode": {
    "name": "ipython",
    "version": 3
   },
   "file_extension": ".py",
   "mimetype": "text/x-python",
   "name": "python",
   "nbconvert_exporter": "python",
   "pygments_lexer": "ipython3",
   "version": "3.7.4"
  }
 },
 "nbformat": 4,
 "nbformat_minor": 4
}

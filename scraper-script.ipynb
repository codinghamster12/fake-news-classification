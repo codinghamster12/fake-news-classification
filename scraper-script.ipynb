{
 "cells": [
  {
   "cell_type": "code",
   "execution_count": 9,
   "metadata": {},
   "outputs": [],
   "source": [
    "# Import libraries\n",
    "import requests\n",
    "import time\n",
    "import pandas as pd\n",
    "import datetime as dt"
   ]
  },
  {
   "cell_type": "code",
   "execution_count": 10,
   "metadata": {},
   "outputs": [],
   "source": [
    "subreddit = 'nottheonion'"
   ]
  },
  {
   "cell_type": "code",
   "execution_count": 11,
   "metadata": {},
   "outputs": [
    {
     "name": "stdout",
     "output_type": "stream",
     "text": [
      "0\n",
      "500\n",
      "1000\n",
      "1500\n",
      "2000\n",
      "2500\n",
      "3000\n",
      "3500\n",
      "4000\n",
      "4500\n",
      "5000\n",
      "5500\n",
      "6000\n",
      "6500\n",
      "7000\n",
      "7500\n",
      "8000\n",
      "8500\n",
      "9000\n",
      "9500\n"
     ]
    }
   ],
   "source": [
    "# Set up dict for info to collect\n",
    "posts_data = {'created_utc':[],\n",
    "              'url':[],\n",
    "              'id':[],\n",
    "              'num_comments':[],\n",
    "              'title':[],\n",
    "              'subreddit':[]\n",
    "              }\n",
    "\n",
    "headers = {'User-agent': 'Reddit Post Collector'}\n",
    "\n",
    "# Set up function to return submission data\n",
    "def get_submissions(**kwargs):\n",
    "    res = requests.get(\"https://api.pushshift.io/reddit/submission/search/\",\n",
    "                       params=kwargs,\n",
    "                       headers=headers)\n",
    "    if res.status_code == 200:\n",
    "        data = res.json()\n",
    "        return data['data']\n",
    "    else:\n",
    "        print(res.status_code)\n",
    "\n",
    "before = None\n",
    "count = 0\n",
    "\n",
    "# Collect up to 10,000 posts as long as there are posts to collect\n",
    "while True and len(set(posts_data['created_utc'])) < 9500:\n",
    "    print(count)\n",
    "    count += 1*500\n",
    "    \n",
    "    posts = get_submissions(subreddit=subreddit,\n",
    "                            size=500,\n",
    "                            before=before,\n",
    "                            sort='desc',\n",
    "                            sort_type='created_utc')\n",
    "    if not posts:\n",
    "        break\n",
    "\n",
    "    for post in posts:\n",
    "        # Keep track of position for the next call in while loop\n",
    "        before = post['created_utc']\n",
    "\n",
    "        # Append info to posts_data dict\n",
    "        posts_data['created_utc'].append(post['created_utc'])\n",
    "        posts_data['url'].append(post['full_link'])\n",
    "        posts_data['id'].append(post['id'])\n",
    "        posts_data['num_comments'].append(post['num_comments'])\n",
    "        posts_data['title'].append(post['title'])\n",
    "        posts_data['subreddit'].append(post['subreddit'])\n",
    "\n",
    "    time.sleep(1)\n",
    "\n",
    "# Save posts to dataframe\n",
    "posts_data = pd.DataFrame(posts_data)\n",
    "\n",
    "# Create `timestamp` column with `created_utc` translated into readable time\n",
    "def get_date(created):\n",
    "    return dt.datetime.fromtimestamp(created)\n",
    "\n",
    "_timestamp = posts_data['created_utc'].apply(get_date)\n",
    "posts_data = posts_data.assign(timestamp = _timestamp)\n",
    "\n",
    "# Export to csv\n",
    "filetime = time.strftime(\"%y%m%d_%H%M%S\", time.localtime())\n",
    "posts_data.to_csv('./data/{}_{}.csv'.format(subreddit, filetime), index=False)"
   ]
  },
  {
   "cell_type": "code",
   "execution_count": 12,
   "metadata": {},
   "outputs": [
    {
     "data": {
      "text/html": [
       "<div>\n",
       "<style scoped>\n",
       "    .dataframe tbody tr th:only-of-type {\n",
       "        vertical-align: middle;\n",
       "    }\n",
       "\n",
       "    .dataframe tbody tr th {\n",
       "        vertical-align: top;\n",
       "    }\n",
       "\n",
       "    .dataframe thead th {\n",
       "        text-align: right;\n",
       "    }\n",
       "</style>\n",
       "<table border=\"1\" class=\"dataframe\">\n",
       "  <thead>\n",
       "    <tr style=\"text-align: right;\">\n",
       "      <th></th>\n",
       "      <th>created_utc</th>\n",
       "      <th>url</th>\n",
       "      <th>id</th>\n",
       "      <th>num_comments</th>\n",
       "      <th>title</th>\n",
       "      <th>subreddit</th>\n",
       "      <th>timestamp</th>\n",
       "    </tr>\n",
       "  </thead>\n",
       "  <tbody>\n",
       "    <tr>\n",
       "      <th>0</th>\n",
       "      <td>1585669214</td>\n",
       "      <td>https://www.reddit.com/r/nottheonion/comments/...</td>\n",
       "      <td>fsf4bh</td>\n",
       "      <td>1</td>\n",
       "      <td>Uranus blasted a gas bubble 22,000 times bigge...</td>\n",
       "      <td>nottheonion</td>\n",
       "      <td>2020-03-31 20:40:14</td>\n",
       "    </tr>\n",
       "    <tr>\n",
       "      <th>1</th>\n",
       "      <td>1585669127</td>\n",
       "      <td>https://www.reddit.com/r/nottheonion/comments/...</td>\n",
       "      <td>fsf3f0</td>\n",
       "      <td>1</td>\n",
       "      <td>Ancaster man accused of dealing drugs, operati...</td>\n",
       "      <td>nottheonion</td>\n",
       "      <td>2020-03-31 20:38:47</td>\n",
       "    </tr>\n",
       "    <tr>\n",
       "      <th>2</th>\n",
       "      <td>1585668798</td>\n",
       "      <td>https://www.reddit.com/r/nottheonion/comments/...</td>\n",
       "      <td>fsezyo</td>\n",
       "      <td>1</td>\n",
       "      <td>Hamilton cops charge man with selling cocaine,...</td>\n",
       "      <td>nottheonion</td>\n",
       "      <td>2020-03-31 20:33:18</td>\n",
       "    </tr>\n",
       "    <tr>\n",
       "      <th>3</th>\n",
       "      <td>1585668732</td>\n",
       "      <td>https://www.reddit.com/r/nottheonion/comments/...</td>\n",
       "      <td>fsez8u</td>\n",
       "      <td>1</td>\n",
       "      <td>Hamilton cops charge man with selling cocaine,...</td>\n",
       "      <td>nottheonion</td>\n",
       "      <td>2020-03-31 20:32:12</td>\n",
       "    </tr>\n",
       "    <tr>\n",
       "      <th>4</th>\n",
       "      <td>1585668552</td>\n",
       "      <td>https://www.reddit.com/r/nottheonion/comments/...</td>\n",
       "      <td>fsex8p</td>\n",
       "      <td>0</td>\n",
       "      <td>r / astrology - The truth about Aquarians (psy...</td>\n",
       "      <td>nottheonion</td>\n",
       "      <td>2020-03-31 20:29:12</td>\n",
       "    </tr>\n",
       "  </tbody>\n",
       "</table>\n",
       "</div>"
      ],
      "text/plain": [
       "   created_utc                                                url      id  \\\n",
       "0   1585669214  https://www.reddit.com/r/nottheonion/comments/...  fsf4bh   \n",
       "1   1585669127  https://www.reddit.com/r/nottheonion/comments/...  fsf3f0   \n",
       "2   1585668798  https://www.reddit.com/r/nottheonion/comments/...  fsezyo   \n",
       "3   1585668732  https://www.reddit.com/r/nottheonion/comments/...  fsez8u   \n",
       "4   1585668552  https://www.reddit.com/r/nottheonion/comments/...  fsex8p   \n",
       "\n",
       "   num_comments                                              title  \\\n",
       "0             1  Uranus blasted a gas bubble 22,000 times bigge...   \n",
       "1             1  Ancaster man accused of dealing drugs, operati...   \n",
       "2             1  Hamilton cops charge man with selling cocaine,...   \n",
       "3             1  Hamilton cops charge man with selling cocaine,...   \n",
       "4             0  r / astrology - The truth about Aquarians (psy...   \n",
       "\n",
       "     subreddit           timestamp  \n",
       "0  nottheonion 2020-03-31 20:40:14  \n",
       "1  nottheonion 2020-03-31 20:38:47  \n",
       "2  nottheonion 2020-03-31 20:33:18  \n",
       "3  nottheonion 2020-03-31 20:32:12  \n",
       "4  nottheonion 2020-03-31 20:29:12  "
      ]
     },
     "execution_count": 12,
     "metadata": {},
     "output_type": "execute_result"
    }
   ],
   "source": [
    "posts_data.head()"
   ]
  },
  {
   "cell_type": "code",
   "execution_count": 13,
   "metadata": {},
   "outputs": [
    {
     "name": "stdout",
     "output_type": "stream",
     "text": [
      "<class 'pandas.core.frame.DataFrame'>\n",
      "RangeIndex: 10000 entries, 0 to 9999\n",
      "Data columns (total 7 columns):\n",
      "created_utc     10000 non-null int64\n",
      "url             10000 non-null object\n",
      "id              10000 non-null object\n",
      "num_comments    10000 non-null int64\n",
      "title           10000 non-null object\n",
      "subreddit       10000 non-null object\n",
      "timestamp       10000 non-null datetime64[ns]\n",
      "dtypes: datetime64[ns](1), int64(2), object(4)\n",
      "memory usage: 390.7+ KB\n"
     ]
    }
   ],
   "source": [
    "posts_data.info()"
   ]
  },
  {
   "cell_type": "code",
   "execution_count": 14,
   "metadata": {},
   "outputs": [
    {
     "data": {
      "text/plain": [
       "array(['nottheonion'], dtype=object)"
      ]
     },
     "execution_count": 14,
     "metadata": {},
     "output_type": "execute_result"
    }
   ],
   "source": [
    "posts_data['subreddit'].unique()"
   ]
  },
  {
   "cell_type": "code",
   "execution_count": 15,
   "metadata": {},
   "outputs": [
    {
     "ename": "NameError",
     "evalue": "name 'de' is not defined",
     "output_type": "error",
     "traceback": [
      "\u001b[1;31m---------------------------------------------------------------------------\u001b[0m",
      "\u001b[1;31mNameError\u001b[0m                                 Traceback (most recent call last)",
      "\u001b[1;32m<ipython-input-15-d34560ac1c29>\u001b[0m in \u001b[0;36m<module>\u001b[1;34m\u001b[0m\n\u001b[1;32m----> 1\u001b[1;33m \u001b[0mde\u001b[0m\u001b[1;33m\u001b[0m\u001b[1;33m\u001b[0m\u001b[0m\n\u001b[0m",
      "\u001b[1;31mNameError\u001b[0m: name 'de' is not defined"
     ]
    }
   ],
   "source": []
  }
 ],
 "metadata": {
  "kernelspec": {
   "display_name": "Python 3",
   "language": "python",
   "name": "python3"
  },
  "language_info": {
   "codemirror_mode": {
    "name": "ipython",
    "version": 3
   },
   "file_extension": ".py",
   "mimetype": "text/x-python",
   "name": "python",
   "nbconvert_exporter": "python",
   "pygments_lexer": "ipython3",
   "version": "3.7.4"
  }
 },
 "nbformat": 4,
 "nbformat_minor": 4
}

{
 "cells": [
  {
   "cell_type": "code",
   "execution_count": 39,
   "metadata": {},
   "outputs": [],
   "source": [
    "import pandas as pd\n",
    "import numpy as np\n",
    "import matplotlib.pyplot as plt\n",
    "import seaborn as sns\n",
    "import re\n",
    "import nltk\n",
    "from nltk.stem import WordNetLemmatizer"
   ]
  },
  {
   "cell_type": "code",
   "execution_count": 40,
   "metadata": {},
   "outputs": [],
   "source": [
    "onion= pd.read_csv('data/TheOnion_200331_212130.csv')"
   ]
  },
  {
   "cell_type": "code",
   "execution_count": 25,
   "metadata": {},
   "outputs": [],
   "source": [
    "not_onion= pd.read_csv('data/nottheonion_200331_222109.csv')"
   ]
  },
  {
   "cell_type": "code",
   "execution_count": 26,
   "metadata": {},
   "outputs": [],
   "source": [
    "news=pd.concat([onion, not_onion])"
   ]
  },
  {
   "cell_type": "code",
   "execution_count": 27,
   "metadata": {},
   "outputs": [
    {
     "data": {
      "text/html": [
       "<div>\n",
       "<style scoped>\n",
       "    .dataframe tbody tr th:only-of-type {\n",
       "        vertical-align: middle;\n",
       "    }\n",
       "\n",
       "    .dataframe tbody tr th {\n",
       "        vertical-align: top;\n",
       "    }\n",
       "\n",
       "    .dataframe thead th {\n",
       "        text-align: right;\n",
       "    }\n",
       "</style>\n",
       "<table border=\"1\" class=\"dataframe\">\n",
       "  <thead>\n",
       "    <tr style=\"text-align: right;\">\n",
       "      <th></th>\n",
       "      <th>created_utc</th>\n",
       "      <th>url</th>\n",
       "      <th>id</th>\n",
       "      <th>num_comments</th>\n",
       "      <th>title</th>\n",
       "      <th>subreddit</th>\n",
       "      <th>timestamp</th>\n",
       "    </tr>\n",
       "  </thead>\n",
       "  <tbody>\n",
       "    <tr>\n",
       "      <th>9995</th>\n",
       "      <td>1581806730</td>\n",
       "      <td>https://www.reddit.com/r/nottheonion/comments/...</td>\n",
       "      <td>f4h4xr</td>\n",
       "      <td>1</td>\n",
       "      <td>Florida Snake orgy</td>\n",
       "      <td>nottheonion</td>\n",
       "      <td>2020-02-16 03:45:30</td>\n",
       "    </tr>\n",
       "    <tr>\n",
       "      <th>9996</th>\n",
       "      <td>1581806241</td>\n",
       "      <td>https://www.reddit.com/r/nottheonion/comments/...</td>\n",
       "      <td>f4h0xm</td>\n",
       "      <td>10</td>\n",
       "      <td>Sheriff’s ‘out of the ordinary’ call: bear arm...</td>\n",
       "      <td>nottheonion</td>\n",
       "      <td>2020-02-16 03:37:21</td>\n",
       "    </tr>\n",
       "    <tr>\n",
       "      <th>9997</th>\n",
       "      <td>1581805471</td>\n",
       "      <td>https://www.reddit.com/r/nottheonion/comments/...</td>\n",
       "      <td>f4gush</td>\n",
       "      <td>2</td>\n",
       "      <td>Male Tennessee lawmaker concerned women will s...</td>\n",
       "      <td>nottheonion</td>\n",
       "      <td>2020-02-16 03:24:31</td>\n",
       "    </tr>\n",
       "    <tr>\n",
       "      <th>9998</th>\n",
       "      <td>1581805139</td>\n",
       "      <td>https://www.reddit.com/r/nottheonion/comments/...</td>\n",
       "      <td>f4grxn</td>\n",
       "      <td>204</td>\n",
       "      <td>New technology may prevent McDonald’s ice crea...</td>\n",
       "      <td>nottheonion</td>\n",
       "      <td>2020-02-16 03:18:59</td>\n",
       "    </tr>\n",
       "    <tr>\n",
       "      <th>9999</th>\n",
       "      <td>1581804630</td>\n",
       "      <td>https://www.reddit.com/r/nottheonion/comments/...</td>\n",
       "      <td>f4gnqi</td>\n",
       "      <td>1</td>\n",
       "      <td>Tanner Zipchen speaks out on former Cineplex g...</td>\n",
       "      <td>nottheonion</td>\n",
       "      <td>2020-02-16 03:10:30</td>\n",
       "    </tr>\n",
       "  </tbody>\n",
       "</table>\n",
       "</div>"
      ],
      "text/plain": [
       "      created_utc                                                url      id  \\\n",
       "9995   1581806730  https://www.reddit.com/r/nottheonion/comments/...  f4h4xr   \n",
       "9996   1581806241  https://www.reddit.com/r/nottheonion/comments/...  f4h0xm   \n",
       "9997   1581805471  https://www.reddit.com/r/nottheonion/comments/...  f4gush   \n",
       "9998   1581805139  https://www.reddit.com/r/nottheonion/comments/...  f4grxn   \n",
       "9999   1581804630  https://www.reddit.com/r/nottheonion/comments/...  f4gnqi   \n",
       "\n",
       "      num_comments                                              title  \\\n",
       "9995             1                                 Florida Snake orgy   \n",
       "9996            10  Sheriff’s ‘out of the ordinary’ call: bear arm...   \n",
       "9997             2  Male Tennessee lawmaker concerned women will s...   \n",
       "9998           204  New technology may prevent McDonald’s ice crea...   \n",
       "9999             1  Tanner Zipchen speaks out on former Cineplex g...   \n",
       "\n",
       "        subreddit            timestamp  \n",
       "9995  nottheonion  2020-02-16 03:45:30  \n",
       "9996  nottheonion  2020-02-16 03:37:21  \n",
       "9997  nottheonion  2020-02-16 03:24:31  \n",
       "9998  nottheonion  2020-02-16 03:18:59  \n",
       "9999  nottheonion  2020-02-16 03:10:30  "
      ]
     },
     "execution_count": 27,
     "metadata": {},
     "output_type": "execute_result"
    }
   ],
   "source": [
    "news.tail()"
   ]
  },
  {
   "cell_type": "code",
   "execution_count": 28,
   "metadata": {},
   "outputs": [],
   "source": [
    "news['subreddit']= news['subreddit'].map(lambda x: 1 if x== 'TheOnion' else 0)"
   ]
  },
  {
   "cell_type": "code",
   "execution_count": 30,
   "metadata": {},
   "outputs": [
    {
     "name": "stdout",
     "output_type": "stream",
     "text": [
      "<class 'pandas.core.frame.DataFrame'>\n",
      "Int64Index: 20000 entries, 0 to 9999\n",
      "Data columns (total 7 columns):\n",
      "created_utc     20000 non-null int64\n",
      "url             20000 non-null object\n",
      "id              20000 non-null object\n",
      "num_comments    20000 non-null int64\n",
      "title           20000 non-null object\n",
      "subreddit       20000 non-null int64\n",
      "timestamp       20000 non-null object\n",
      "dtypes: int64(3), object(4)\n",
      "memory usage: 937.5+ KB\n"
     ]
    }
   ],
   "source": [
    "news.info()"
   ]
  },
  {
   "cell_type": "code",
   "execution_count": 31,
   "metadata": {},
   "outputs": [
    {
     "data": {
      "text/html": [
       "<div>\n",
       "<style scoped>\n",
       "    .dataframe tbody tr th:only-of-type {\n",
       "        vertical-align: middle;\n",
       "    }\n",
       "\n",
       "    .dataframe tbody tr th {\n",
       "        vertical-align: top;\n",
       "    }\n",
       "\n",
       "    .dataframe thead th {\n",
       "        text-align: right;\n",
       "    }\n",
       "</style>\n",
       "<table border=\"1\" class=\"dataframe\">\n",
       "  <thead>\n",
       "    <tr style=\"text-align: right;\">\n",
       "      <th></th>\n",
       "      <th>created_utc</th>\n",
       "      <th>url</th>\n",
       "      <th>id</th>\n",
       "      <th>num_comments</th>\n",
       "      <th>title</th>\n",
       "      <th>subreddit</th>\n",
       "      <th>timestamp</th>\n",
       "    </tr>\n",
       "  </thead>\n",
       "  <tbody>\n",
       "    <tr>\n",
       "      <th>0</th>\n",
       "      <td>1585666673</td>\n",
       "      <td>https://www.reddit.com/r/TheOnion/comments/fse...</td>\n",
       "      <td>fsecot</td>\n",
       "      <td>1</td>\n",
       "      <td>Prison Economy Spirals As Price Of Pack Of Cig...</td>\n",
       "      <td>1</td>\n",
       "      <td>2020-03-31 19:57:53</td>\n",
       "    </tr>\n",
       "    <tr>\n",
       "      <th>1</th>\n",
       "      <td>1585666583</td>\n",
       "      <td>https://www.reddit.com/r/TheOnion/comments/fse...</td>\n",
       "      <td>fsebut</td>\n",
       "      <td>0</td>\n",
       "      <td>Prison Economy Spirals As Price Of Pack Of Cig...</td>\n",
       "      <td>1</td>\n",
       "      <td>2020-03-31 19:56:23</td>\n",
       "    </tr>\n",
       "    <tr>\n",
       "      <th>2</th>\n",
       "      <td>1585664848</td>\n",
       "      <td>https://www.reddit.com/r/TheOnion/comments/fsd...</td>\n",
       "      <td>fsduf7</td>\n",
       "      <td>0</td>\n",
       "      <td>Trump Delays Easter To July 15 To Keep Promise...</td>\n",
       "      <td>1</td>\n",
       "      <td>2020-03-31 19:27:28</td>\n",
       "    </tr>\n",
       "    <tr>\n",
       "      <th>3</th>\n",
       "      <td>1585653596</td>\n",
       "      <td>https://www.reddit.com/r/TheOnion/comments/fsb...</td>\n",
       "      <td>fsb69r</td>\n",
       "      <td>0</td>\n",
       "      <td>‘What Is This Strange Sensation,’ Announces Na...</td>\n",
       "      <td>1</td>\n",
       "      <td>2020-03-31 16:19:56</td>\n",
       "    </tr>\n",
       "    <tr>\n",
       "      <th>4</th>\n",
       "      <td>1585653517</td>\n",
       "      <td>https://www.reddit.com/r/TheOnion/comments/fsb...</td>\n",
       "      <td>fsb5ns</td>\n",
       "      <td>6</td>\n",
       "      <td>Amazon Announces Unlimited Time Off, Increased...</td>\n",
       "      <td>1</td>\n",
       "      <td>2020-03-31 16:18:37</td>\n",
       "    </tr>\n",
       "  </tbody>\n",
       "</table>\n",
       "</div>"
      ],
      "text/plain": [
       "   created_utc                                                url      id  \\\n",
       "0   1585666673  https://www.reddit.com/r/TheOnion/comments/fse...  fsecot   \n",
       "1   1585666583  https://www.reddit.com/r/TheOnion/comments/fse...  fsebut   \n",
       "2   1585664848  https://www.reddit.com/r/TheOnion/comments/fsd...  fsduf7   \n",
       "3   1585653596  https://www.reddit.com/r/TheOnion/comments/fsb...  fsb69r   \n",
       "4   1585653517  https://www.reddit.com/r/TheOnion/comments/fsb...  fsb5ns   \n",
       "\n",
       "   num_comments                                              title  subreddit  \\\n",
       "0             1  Prison Economy Spirals As Price Of Pack Of Cig...          1   \n",
       "1             0  Prison Economy Spirals As Price Of Pack Of Cig...          1   \n",
       "2             0  Trump Delays Easter To July 15 To Keep Promise...          1   \n",
       "3             0  ‘What Is This Strange Sensation,’ Announces Na...          1   \n",
       "4             6  Amazon Announces Unlimited Time Off, Increased...          1   \n",
       "\n",
       "             timestamp  \n",
       "0  2020-03-31 19:57:53  \n",
       "1  2020-03-31 19:56:23  \n",
       "2  2020-03-31 19:27:28  \n",
       "3  2020-03-31 16:19:56  \n",
       "4  2020-03-31 16:18:37  "
      ]
     },
     "execution_count": 31,
     "metadata": {},
     "output_type": "execute_result"
    }
   ],
   "source": [
    "news.head()"
   ]
  },
  {
   "cell_type": "code",
   "execution_count": 41,
   "metadata": {},
   "outputs": [],
   "source": [
    "wpt= nltk.WordPunctTokenizer()\n",
    "stop_words= nltk.corpus.stopwords.words('english')\n",
    "lemmatizer= WordNetLemmatizer()\n",
    "def normalize_data(data):\n",
    "    data= unidecode.unidecode(data)\n",
    "    data= re.sub(r'[^a-zA-Z0-9\\s]', '', data, re.I)\n",
    "    data= data.lower()\n",
    "    data= data.strip()\n",
    "    \n",
    "    tokens= wpt.tokenize(data)\n",
    "    filtered_tokens= [token for token in tokens if token not in stop_words]\n",
    "    lemmatized_tokens=[lemmatizer.lemmatize(token) for token in filtered_tokens]\n",
    "    data=' '.join(lemmatized_tokens)\n",
    "    return data\n",
    "\n",
    "   \n",
    "    "
   ]
  },
  {
   "cell_type": "code",
   "execution_count": null,
   "metadata": {},
   "outputs": [],
   "source": []
  }
 ],
 "metadata": {
  "kernelspec": {
   "display_name": "Python 3",
   "language": "python",
   "name": "python3"
  },
  "language_info": {
   "codemirror_mode": {
    "name": "ipython",
    "version": 3
   },
   "file_extension": ".py",
   "mimetype": "text/x-python",
   "name": "python",
   "nbconvert_exporter": "python",
   "pygments_lexer": "ipython3",
   "version": "3.7.4"
  }
 },
 "nbformat": 4,
 "nbformat_minor": 4
}
